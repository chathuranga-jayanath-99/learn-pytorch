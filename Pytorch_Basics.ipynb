{
  "nbformat": 4,
  "nbformat_minor": 0,
  "metadata": {
    "colab": {
      "provenance": []
    },
    "kernelspec": {
      "name": "python3",
      "display_name": "Python 3"
    },
    "language_info": {
      "name": "python"
    }
  },
  "cells": [
    {
      "cell_type": "markdown",
      "source": [
        "# Pytorch\n",
        "Pytorch is an open source deep learning framework for building deep learning models. It is used for common applications like image recognition, natural language processing, etc."
      ],
      "metadata": {
        "id": "975DlXqpy3Oj"
      }
    },
    {
      "cell_type": "markdown",
      "source": [
        "Let's import PyTorch library before going any further."
      ],
      "metadata": {
        "id": "0558eDsnxX4o"
      }
    },
    {
      "cell_type": "code",
      "execution_count": null,
      "metadata": {
        "id": "zH9cSNBBOA2g"
      },
      "outputs": [],
      "source": [
        "import torch"
      ]
    },
    {
      "cell_type": "markdown",
      "source": [
        "# Tensor\n",
        "Tensor is basically same as a numpy array. Tensor can be a number, vector, matrix, or n-dimensional array. We can use PyTorch to process tensors easily."
      ],
      "metadata": {
        "id": "nu8QjUm6y9Pw"
      }
    },
    {
      "cell_type": "markdown",
      "source": [
        "Let's define a number as a tensor."
      ],
      "metadata": {
        "id": "opikmzLq31OA"
      }
    },
    {
      "cell_type": "code",
      "source": [
        "# Number\n",
        "t1 = torch.tensor(4.)\n",
        "t1"
      ],
      "metadata": {
        "colab": {
          "base_uri": "https://localhost:8080/"
        },
        "id": "d9Icbz0OOKxa",
        "outputId": "08100f54-16e5-47ef-cb4c-dbc0742bb4f9"
      },
      "execution_count": null,
      "outputs": [
        {
          "output_type": "execute_result",
          "data": {
            "text/plain": [
              "tensor(4.)"
            ]
          },
          "metadata": {},
          "execution_count": 2
        }
      ]
    },
    {
      "cell_type": "markdown",
      "source": [
        "Look into the data type of the elements in the `t1` tensor"
      ],
      "metadata": {
        "id": "aMgrTClrMTMQ"
      }
    },
    {
      "cell_type": "code",
      "source": [
        "t1.dtype"
      ],
      "metadata": {
        "colab": {
          "base_uri": "https://localhost:8080/"
        },
        "id": "pPsRpNVNOPG-",
        "outputId": "48a2455e-863f-43cd-b709-4953025bfecf"
      },
      "execution_count": null,
      "outputs": [
        {
          "output_type": "execute_result",
          "data": {
            "text/plain": [
              "torch.float32"
            ]
          },
          "metadata": {},
          "execution_count": 3
        }
      ]
    },
    {
      "cell_type": "markdown",
      "source": [
        "Define a vector as a tensor."
      ],
      "metadata": {
        "id": "ME_nEDmB7pVq"
      }
    },
    {
      "cell_type": "code",
      "source": [
        "# Vector\n",
        "t2 = torch.tensor([1., 2, 5, 4])\n",
        "t2"
      ],
      "metadata": {
        "id": "yC8LEAIZPnx_",
        "colab": {
          "base_uri": "https://localhost:8080/"
        },
        "outputId": "0b813d08-9061-4c78-ccdb-c27cfc77ed50"
      },
      "execution_count": null,
      "outputs": [
        {
          "output_type": "execute_result",
          "data": {
            "text/plain": [
              "tensor([1., 2., 5., 4.])"
            ]
          },
          "metadata": {},
          "execution_count": 4
        }
      ]
    },
    {
      "cell_type": "markdown",
      "source": [
        "Define a matrix as a tensor. Here I have selected a 2x2 matrix."
      ],
      "metadata": {
        "id": "74PyGmdI8EDs"
      }
    },
    {
      "cell_type": "code",
      "source": [
        "# Matrix\n",
        "t3 = torch.tensor([\n",
        "    [1., 2],\n",
        "    [5, 4]\n",
        "])\n",
        "t3"
      ],
      "metadata": {
        "colab": {
          "base_uri": "https://localhost:8080/"
        },
        "id": "Pm3h8GeIL3k4",
        "outputId": "c92fbab7-04d0-4c2a-cb04-9bc98b0cd94d"
      },
      "execution_count": null,
      "outputs": [
        {
          "output_type": "execute_result",
          "data": {
            "text/plain": [
              "tensor([[1., 2.],\n",
              "        [5., 4.]])"
            ]
          },
          "metadata": {},
          "execution_count": 5
        }
      ]
    },
    {
      "cell_type": "markdown",
      "source": [
        "Define a 3-dimensional array. Here I have defined a 2x2x2 array."
      ],
      "metadata": {
        "id": "-uqP1iud-VLZ"
      }
    },
    {
      "cell_type": "code",
      "source": [
        "# 3-dimensional array\n",
        "t4 = torch.tensor([\n",
        "    [\n",
        "        [1., 2],\n",
        "        [4, 5]\n",
        "    ],\n",
        "    [\n",
        "        [7, 8.],\n",
        "        [9, 10]\n",
        "    ]\n",
        "])\n",
        "t4"
      ],
      "metadata": {
        "colab": {
          "base_uri": "https://localhost:8080/"
        },
        "id": "6ghdb595MCKb",
        "outputId": "44079c87-b613-40ee-f2e8-222ae8851ca3"
      },
      "execution_count": null,
      "outputs": [
        {
          "output_type": "execute_result",
          "data": {
            "text/plain": [
              "tensor([[[ 1.,  2.],\n",
              "         [ 4.,  5.]],\n",
              "\n",
              "        [[ 7.,  8.],\n",
              "         [ 9., 10.]]])"
            ]
          },
          "metadata": {},
          "execution_count": 6
        }
      ]
    },
    {
      "cell_type": "markdown",
      "source": [
        "Let's take a look into shapes of the tensors `t1`, `t2`, `t3`, `t4`.\n"
      ],
      "metadata": {
        "id": "vAKSmtL2M3Z0"
      }
    },
    {
      "cell_type": "code",
      "source": [
        "print(t1.shape)\n",
        "print(t2.shape)\n",
        "print(t3.shape)\n",
        "print(t4.shape)"
      ],
      "metadata": {
        "colab": {
          "base_uri": "https://localhost:8080/"
        },
        "id": "RYsQzG-_MwiG",
        "outputId": "e335282a-fd8e-481f-ec82-cd0bf24b8c82"
      },
      "execution_count": null,
      "outputs": [
        {
          "output_type": "stream",
          "name": "stdout",
          "text": [
            "torch.Size([])\n",
            "torch.Size([4])\n",
            "torch.Size([2, 2])\n",
            "torch.Size([2, 2, 2])\n"
          ]
        }
      ]
    },
    {
      "cell_type": "markdown",
      "source": [
        "I have a question for you. **Can you explain the shape we get for `t1`? 🤔 Any IDEAS!!!**\n",
        "\n",
        "This has happen due to the way of representing dimensions. `torch.Size([])` is the way to represent the shape or dimension of a scalar tensor. I hope you remember that `t1` is a tensor of a number. If not, you have to scroll up and check yourself🙂."
      ],
      "metadata": {
        "id": "s7enp9cyNkkv"
      }
    },
    {
      "cell_type": "markdown",
      "source": [
        "Excercise:\n",
        "\n",
        "Add/remove elements from rows and columns in different arrays and check how shape changes."
      ],
      "metadata": {
        "id": "lQzsHUssNf51"
      }
    },
    {
      "cell_type": "code",
      "source": [
        "# Example\n",
        "t5 = torch.tensor([\n",
        "    [1., 2, 3],\n",
        "    [5, 4, 6]\n",
        "])\n",
        "t5"
      ],
      "metadata": {
        "colab": {
          "base_uri": "https://localhost:8080/"
        },
        "id": "2GrgDvMqx88d",
        "outputId": "de9dc7aa-7ce9-4954-b2e4-d6fbe18ca7c5"
      },
      "execution_count": null,
      "outputs": [
        {
          "output_type": "execute_result",
          "data": {
            "text/plain": [
              "tensor([[1., 2., 3.],\n",
              "        [5., 4., 6.]])"
            ]
          },
          "metadata": {},
          "execution_count": 8
        }
      ]
    },
    {
      "cell_type": "markdown",
      "source": [
        "Check out the shape."
      ],
      "metadata": {
        "id": "S9NDuBKUJqA3"
      }
    },
    {
      "cell_type": "code",
      "source": [
        "print(t5.shape)"
      ],
      "metadata": {
        "id": "QLm4mESzyLuv",
        "colab": {
          "base_uri": "https://localhost:8080/"
        },
        "outputId": "a6af2931-1523-4f41-b2a7-822957d72c4d"
      },
      "execution_count": null,
      "outputs": [
        {
          "output_type": "stream",
          "name": "stdout",
          "text": [
            "torch.Size([2, 3])\n"
          ]
        }
      ]
    },
    {
      "cell_type": "markdown",
      "source": [
        "Now you know how to create tensors. Let's look into diffent tensor operations."
      ],
      "metadata": {
        "id": "5Sm7lRaIOaJV"
      }
    },
    {
      "cell_type": "markdown",
      "source": [
        "# Tensor Operations\n",
        "We can use basic arithmetic operations with tensors. Let's create some tensors and dive in."
      ],
      "metadata": {
        "id": "jdZW_swHOXpy"
      }
    },
    {
      "cell_type": "code",
      "source": [
        "# create tensors\n",
        "x = torch.tensor(3.)\n",
        "w = torch.tensor(4.)\n",
        "b = torch.tensor(1.)\n",
        "x, w, b"
      ],
      "metadata": {
        "id": "XSCRksBfOZHt",
        "colab": {
          "base_uri": "https://localhost:8080/"
        },
        "outputId": "07b11ffd-7191-4d21-9859-8ff8b38b91b1"
      },
      "execution_count": null,
      "outputs": [
        {
          "output_type": "execute_result",
          "data": {
            "text/plain": [
              "(tensor(3.), tensor(4.), tensor(1.))"
            ]
          },
          "metadata": {},
          "execution_count": 10
        }
      ]
    },
    {
      "cell_type": "markdown",
      "source": [
        "We can perform arithmetic operations on above tensors as below."
      ],
      "metadata": {
        "id": "VBPn84sWLmMH"
      }
    },
    {
      "cell_type": "code",
      "source": [
        "# perform arithmetic operation\n",
        "y = w * x + b\n",
        "y"
      ],
      "metadata": {
        "colab": {
          "base_uri": "https://localhost:8080/"
        },
        "id": "isnyQ8UTmbnl",
        "outputId": "e82915fa-09f5-49e9-8e59-cd09a4253706"
      },
      "execution_count": null,
      "outputs": [
        {
          "output_type": "execute_result",
          "data": {
            "text/plain": [
              "tensor(13.)"
            ]
          },
          "metadata": {},
          "execution_count": 11
        }
      ]
    },
    {
      "cell_type": "markdown",
      "source": [
        "We can find gradients as well. For that we need to define with respective to what we expect to find derivates. You can do that as below."
      ],
      "metadata": {
        "id": "3gSlfM3XneZS"
      }
    },
    {
      "cell_type": "code",
      "source": [
        "x = torch.tensor(3.)\n",
        "w = torch.tensor(4., requires_grad = True)\n",
        "b = torch.tensor(1., requires_grad = True)\n",
        "\n",
        "y = w * x + b\n",
        "\n",
        "# calculate gradients\n",
        "y.backward()"
      ],
      "metadata": {
        "id": "r3uagSOdnrSI"
      },
      "execution_count": null,
      "outputs": []
    },
    {
      "cell_type": "markdown",
      "source": [
        "You can check the calculated gradients as below."
      ],
      "metadata": {
        "id": "bUhJiwF5oDxM"
      }
    },
    {
      "cell_type": "code",
      "source": [
        "print(\"dy/dx:\", x.grad)\n",
        "print(\"dy/dw:\", w.grad)\n",
        "print(\"dy/db:\", b.grad)"
      ],
      "metadata": {
        "colab": {
          "base_uri": "https://localhost:8080/"
        },
        "id": "bryWvkWqm4FI",
        "outputId": "85aaf962-ed09-4d0f-c4b4-98d9b72b4efd"
      },
      "execution_count": null,
      "outputs": [
        {
          "output_type": "stream",
          "name": "stdout",
          "text": [
            "dy/dx: None\n",
            "dy/dw: tensor(3.)\n",
            "dy/db: tensor(1.)\n"
          ]
        }
      ]
    },
    {
      "cell_type": "markdown",
      "source": [
        "**Why we get `dy/dx` as `None`? 🤔**\n",
        "\n",
        "It is because we didn't define `requires_grad` to `True` for `x`. That means previously we haven't asked PyTorch to keep track of gradients with respect to `x`"
      ],
      "metadata": {
        "id": "3G1ZUVpno5uV"
      }
    },
    {
      "cell_type": "markdown",
      "source": [
        "Now let's look into how we can use NumPy arrays to generate tensors.  "
      ],
      "metadata": {
        "id": "1p99l_AvQMkf"
      }
    },
    {
      "cell_type": "markdown",
      "source": [
        "# NumPy\n",
        "NumPy is a package for scientific computing in Python programming language. It adds support for large, multi-dimensional arrays and matrices, along with a large collection of high-level mathematical functions to operate on these arrays."
      ],
      "metadata": {
        "id": "mWKw6gR5pQT8"
      }
    },
    {
      "cell_type": "markdown",
      "source": [
        "We can create a NumPy array as below."
      ],
      "metadata": {
        "id": "o6W_SNDjpgzP"
      }
    },
    {
      "cell_type": "code",
      "source": [
        "import numpy as np\n",
        "\n",
        "x = np.array([[1., 2.], [3, 4]])\n",
        "x"
      ],
      "metadata": {
        "id": "vP15uu1OnGFC",
        "colab": {
          "base_uri": "https://localhost:8080/"
        },
        "outputId": "61de26cd-a054-44a6-f558-713b1b44ac9e"
      },
      "execution_count": null,
      "outputs": [
        {
          "output_type": "execute_result",
          "data": {
            "text/plain": [
              "array([[1., 2.],\n",
              "       [3., 4.]])"
            ]
          },
          "metadata": {},
          "execution_count": 15
        }
      ]
    },
    {
      "cell_type": "markdown",
      "source": [
        "You can check the data type of the elements in the NumPy array as below."
      ],
      "metadata": {
        "id": "oqqS7N4gUS_P"
      }
    },
    {
      "cell_type": "code",
      "source": [
        "# check data type\n",
        "x.dtype"
      ],
      "metadata": {
        "colab": {
          "base_uri": "https://localhost:8080/"
        },
        "id": "8wmCJ5Qkp_IZ",
        "outputId": "4e2a1e8f-226d-44d6-bbb2-640f92317146"
      },
      "execution_count": null,
      "outputs": [
        {
          "output_type": "execute_result",
          "data": {
            "text/plain": [
              "dtype('float64')"
            ]
          },
          "metadata": {},
          "execution_count": 16
        }
      ]
    },
    {
      "cell_type": "markdown",
      "source": [
        "We can convert a NumPy array into tensor as below."
      ],
      "metadata": {
        "id": "AJb6hp_ppwBC"
      }
    },
    {
      "cell_type": "code",
      "source": [
        "y = torch.from_numpy(x)\n",
        "y"
      ],
      "metadata": {
        "id": "x1c1XuJXnIPd",
        "colab": {
          "base_uri": "https://localhost:8080/"
        },
        "outputId": "53414179-c2ce-4c86-cb13-19517ccc4e4a"
      },
      "execution_count": null,
      "outputs": [
        {
          "output_type": "execute_result",
          "data": {
            "text/plain": [
              "tensor([[1., 2.],\n",
              "        [3., 4.]], dtype=torch.float64)"
            ]
          },
          "metadata": {},
          "execution_count": 17
        }
      ]
    },
    {
      "cell_type": "code",
      "source": [
        "# check data type\n",
        "y.dtype"
      ],
      "metadata": {
        "colab": {
          "base_uri": "https://localhost:8080/"
        },
        "id": "NyCxVrd-p5Ta",
        "outputId": "693a5fdc-52ed-4295-d8fd-10dfea14d95d"
      },
      "execution_count": null,
      "outputs": [
        {
          "output_type": "execute_result",
          "data": {
            "text/plain": [
              "torch.float64"
            ]
          },
          "metadata": {},
          "execution_count": 18
        }
      ]
    },
    {
      "cell_type": "markdown",
      "source": [
        "We can convert tensor in to NumPy array as well. Check the below example."
      ],
      "metadata": {
        "id": "xhvwyAbyqI9G"
      }
    },
    {
      "cell_type": "code",
      "source": [
        "z = y.numpy()\n",
        "z"
      ],
      "metadata": {
        "colab": {
          "base_uri": "https://localhost:8080/"
        },
        "id": "u83HIbX0qD1e",
        "outputId": "344de086-59ea-49e6-9889-44704fb5aef2"
      },
      "execution_count": null,
      "outputs": [
        {
          "output_type": "execute_result",
          "data": {
            "text/plain": [
              "array([[1., 2.],\n",
              "       [3., 4.]])"
            ]
          },
          "metadata": {},
          "execution_count": 19
        }
      ]
    },
    {
      "cell_type": "markdown",
      "source": [
        "# Conclusion\n",
        "In this blog, we checked out PyTorch tensors and what they can do. I hope you followed along well. If you're unsure about anything, just leave a comment. I'll catch you in the next blog, where we'll dive into more cool PyTorch stuff!"
      ],
      "metadata": {
        "id": "RzF7m-5WqZkr"
      }
    }
  ]
}